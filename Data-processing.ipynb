{
  "nbformat": 4,
  "nbformat_minor": 0,
  "metadata": {
    "colab": {
      "provenance": [],
      "mount_file_id": "1eCZ8mpqT-n2MnArDU58wP9CylKIcVr-9",
      "authorship_tag": "ABX9TyPy9cJrnI8ttNBtQMyalYWV",
      "include_colab_link": true
    },
    "kernelspec": {
      "name": "python3",
      "display_name": "Python 3"
    },
    "language_info": {
      "name": "python"
    }
  },
  "cells": [
    {
      "cell_type": "markdown",
      "metadata": {
        "id": "view-in-github",
        "colab_type": "text"
      },
      "source": [
        "<a href=\"https://colab.research.google.com/github/Vivian-N0826/Predictive-Analytics-of-Waste-Generation-and-Charging-in-Hong-Kong/blob/main/Data-processing.ipynb\" target=\"_parent\"><img src=\"https://colab.research.google.com/assets/colab-badge.svg\" alt=\"Open In Colab\"/></a>"
      ]
    },
    {
      "cell_type": "markdown",
      "source": [
        "# 导入数据"
      ],
      "metadata": {
        "id": "oJNuO-XVN9e0"
      }
    },
    {
      "cell_type": "code",
      "source": [
        "import pandas as pd\n",
        "import numpy as np\n",
        "import matplotlib.pyplot as plt\n",
        "import seaborn as sns\n",
        "from scipy.stats import pearsonr"
      ],
      "metadata": {
        "id": "o2RpaS8jOIzg"
      },
      "execution_count": 1,
      "outputs": []
    },
    {
      "cell_type": "code",
      "source": [
        "# 加载数据\n",
        "file_path = \"香港垃圾收费政策调查问卷.csv\"\n",
        "data = pd.read_csv(file_path)\n",
        "\n",
        "# 查看数据的前几行\n",
        "print(data.head())"
      ],
      "metadata": {
        "id": "xfvc51ZxOMzP"
      },
      "execution_count": null,
      "outputs": []
    }
  ]
}